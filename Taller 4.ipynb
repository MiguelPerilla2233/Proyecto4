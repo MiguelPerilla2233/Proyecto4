{
 "cells": [
  {
   "cell_type": "code",
   "execution_count": 1,
   "id": "85dd98b4",
   "metadata": {},
   "outputs": [],
   "source": [
    "import pandas as pd\n",
    "import numpy as np\n",
    "import matplotlib.pyplot as plt\n",
    "import torch\n",
    "import torchvision\n",
    "from torchvision.io import read_image\n",
    "#from torchvision import transforms\n",
    "import torchvision.transforms as T\n",
    "# libreria para adquisición de imágenes\n",
    "from google_images_download import google_images_download"
   ]
  },
  {
   "cell_type": "code",
   "execution_count": null,
   "id": "103aef89",
   "metadata": {},
   "outputs": [],
   "source": [
    "# Cargar imágenes\n",
    "\n",
    "response = google_images_download.googleimagesdownload()\n",
    "arguments_bogota = {'keywords': 'city street', 'suffix_keywords': 'bogota,-bogota' ,'limit':5,'output_directory':'Imagenes',\"print_urls\":True}\n",
    "\n",
    "paths = response.download(arguments_bogota)\n",
    "print(paths) "
   ]
  },
  {
   "cell_type": "code",
   "execution_count": 2,
   "id": "3f22720d",
   "metadata": {},
   "outputs": [],
   "source": [
    "p = T.Compose([T.Resize((183,183))])"
   ]
  },
  {
   "cell_type": "code",
   "execution_count": 3,
   "id": "99955472",
   "metadata": {},
   "outputs": [
    {
     "data": {
      "text/plain": [
       "torch.Tensor"
      ]
     },
     "execution_count": 3,
     "metadata": {},
     "output_type": "execute_result"
    }
   ],
   "source": [
    "x1 = p(read_image(\"Imagenes/city street bogota/Bog1.jpg\"))\n",
    "x2 = p(read_image(\"Imagenes/city street bogota/Bog2.jpg\"))\n",
    "x3 = p(read_image(\"Imagenes/city street bogota/Bog3.jpg\"))\n",
    "x4 = p(read_image(\"Imagenes/city street bogota/Bog4.jpg\"))\n",
    "x5 = p(read_image(\"Imagenes/city street bogota/Bog5.jpg\"))\n",
    "x6 = p(read_image(\"Imagenes/city street bogota/notBog1.jpg\"))\n",
    "x7 = p(read_image(\"Imagenes/city street bogota/notBog2.jpg\"))\n",
    "x8 = p(read_image(\"Imagenes/city street bogota/notBog3.jpg\"))\n",
    "x9 = p(read_image(\"Imagenes/city street bogota/notBog4.jpg\"))\n",
    "x10 = p(read_image(\"Imagenes/city street bogota/notBog5.jpg\"))\n",
    "x11 = p(read_image(\"Imagenes/city street bogota/notBog6.jpg\"))\n",
    "x12 = p(read_image(\"Imagenes/city street bogota/notBog7.jpg\"))\n",
    "x13 = p(read_image(\"Imagenes/city street bogota/notBog8.jpg\"))\n",
    "x14 = p(read_image(\"Imagenes/city street bogota/notBog9.jpg\"))\n",
    "type(x1)"
   ]
  },
  {
   "cell_type": "code",
   "execution_count": 4,
   "id": "1fa0eb43",
   "metadata": {},
   "outputs": [],
   "source": [
    "X = np.zeros([14,3,183,183])\n",
    "\n",
    "Z = [x1,x2,x3,x4,x5,x6,x7,x8,x9,x10,x11,x12,x13,x14]\n",
    "for i in range(14):\n",
    "    X[i,:] = Z[i]\n",
    "Y = np.array([1.,1.,1.,1.,1.,0.,0.,0.,0.,0.,0.,0.,0.,0.])"
   ]
  },
  {
   "cell_type": "code",
   "execution_count": 48,
   "id": "f1fcb9e6",
   "metadata": {},
   "outputs": [
    {
     "data": {
      "text/plain": [
       "(10, 3, 183, 183)"
      ]
     },
     "execution_count": 48,
     "metadata": {},
     "output_type": "execute_result"
    }
   ],
   "source": [
    "# Separar los datos entre entrenamiento y testeo\n",
    "from sklearn.model_selection import train_test_split\n",
    "\n",
    "X_train, X_test, Y_train, Y_test = train_test_split(X,Y)\n",
    "X_train.shape"
   ]
  },
  {
   "cell_type": "code",
   "execution_count": 49,
   "id": "a0001822",
   "metadata": {},
   "outputs": [
    {
     "data": {
      "text/plain": [
       "Sequential(\n",
       "  (0): Conv2d(3, 16, kernel_size=(2, 2), stride=(1, 1), padding=(2, 2))\n",
       "  (1): ReLU()\n",
       "  (2): MaxPool2d(kernel_size=2, stride=2, padding=0, dilation=1, ceil_mode=False)\n",
       "  (3): Dropout(p=0.2, inplace=False)\n",
       "  (4): Conv2d(16, 32, kernel_size=(3, 3), stride=(1, 1), padding=(2, 2))\n",
       "  (5): ReLU()\n",
       "  (6): MaxPool2d(kernel_size=2, stride=2, padding=0, dilation=1, ceil_mode=False)\n",
       "  (7): Flatten(start_dim=1, end_dim=-1)\n",
       "  (8): Linear(in_features=70688, out_features=2, bias=True)\n",
       ")"
      ]
     },
     "execution_count": 49,
     "metadata": {},
     "output_type": "execute_result"
    }
   ],
   "source": [
    "model = torch.nn.Sequential(\n",
    "  torch.nn.Conv2d(3, 16, kernel_size=2, stride=1, padding=2),\n",
    "  # ( (183-2+2*2)/1 ) + 1 = 186   -> 186*186*16\n",
    "\n",
    "  torch.nn.ReLU(),\n",
    "\n",
    "  torch.nn.MaxPool2d(kernel_size=2),\n",
    "  # 186/2 = 93                 -> 93*93*16\n",
    "\n",
    "  torch.nn.Dropout(p=0.2),\n",
    "\n",
    "  torch.nn.Conv2d(16, 32, kernel_size=3, stride=1, padding=2),\n",
    "  # ( (93-3+2*2)/1 ) + 1 = 95   -> 95*95*32\n",
    "\n",
    "  torch.nn.ReLU(),\n",
    "\n",
    "  torch.nn.MaxPool2d(kernel_size=2),\n",
    "  # 95/2 = 47                 -> 47*47*32\n",
    "\n",
    "  #torch.nn.Dropout(p=0.2), \n",
    "\n",
    "  torch.nn.Flatten(),\n",
    "  torch.nn.Linear(47*47*32, 2)\n",
    ")\n",
    "model"
   ]
  },
  {
   "cell_type": "code",
   "execution_count": 50,
   "id": "516d2fd4",
   "metadata": {},
   "outputs": [
    {
     "name": "stdout",
     "output_type": "stream",
     "text": [
      "cpu\n"
     ]
    }
   ],
   "source": [
    "#-- Después de activar el entorno GPU se selecciona el dispositivo\n",
    "\n",
    "device = torch.device(\"cuda:0\" if torch.cuda.is_available() else \"cpu\")\n",
    "print(device)"
   ]
  },
  {
   "cell_type": "code",
   "execution_count": 51,
   "id": "e606e9ac",
   "metadata": {},
   "outputs": [],
   "source": [
    "#--- Definimos los criterios de evaluación y el optmizador\n",
    "\n",
    "criterion = torch.nn.CrossEntropyLoss()\n",
    "optimizer = torch.optim.Adam(model.parameters(), lr = 0.001, weight_decay=0.1)"
   ]
  },
  {
   "cell_type": "code",
   "execution_count": 52,
   "id": "f48a11ac",
   "metadata": {},
   "outputs": [],
   "source": [
    "#--- Visualizamos la estructura de nuestra CNN\n",
    "\n",
    "import hiddenlayer as hl\n",
    "\n",
    "\n",
    "#hl.build_graph(model, torch.zeros([16,3,183,183]))"
   ]
  },
  {
   "cell_type": "code",
   "execution_count": 53,
   "id": "d142e8f1",
   "metadata": {},
   "outputs": [],
   "source": [
    "batch_size = 32\n",
    "\n",
    "train_ds = torch.utils.data.TensorDataset(torch.from_numpy(X_train).float(), torch.from_numpy(Y_train).long())\n",
    "train_dl = torch.utils.data.DataLoader(train_ds, batch_size=batch_size, shuffle=True)"
   ]
  },
  {
   "cell_type": "code",
   "execution_count": 54,
   "id": "40366b98",
   "metadata": {},
   "outputs": [
    {
     "data": {
      "image/png": "[encoded data removed]",
      "text/plain": [
       "<Figure size 864x576 with 2 Axes>"
      ]
     },
     "metadata": {
      "needs_background": "light"
     },
     "output_type": "display_data"
    }
   ],
   "source": [
    "#--- Entrenamos la CNN\n",
    "\n",
    "from sklearn.metrics import f1_score\n",
    "\n",
    "n_epoch = 50\n",
    "\n",
    "history = hl.History()\n",
    "canvas = hl.Canvas()\n",
    "\n",
    "model.to(device)\n",
    "savacc = []\n",
    "savef1 = []\n",
    "\n",
    "i = 0\n",
    "\n",
    "for epoch in range(n_epoch):\n",
    "    for batch_id, (X_train_batch, Y_train_batch) in enumerate(train_dl):\n",
    "\n",
    "        #-- Cargamos los datos en la GPU\n",
    "        X_train_batch, Y_train_batch = X_train_batch.to(device), Y_train_batch.to(device)\n",
    "\n",
    "        model.train()\n",
    "        Xtr = X_train_batch\n",
    "        Y_pred = model(Xtr)\n",
    "\n",
    "        loss = criterion(Y_pred,Y_train_batch)\n",
    "\n",
    "        Y_pred = torch.argmax(Y_pred, 1)\n",
    "\n",
    "        #-- Calculamos el f1 en la cpu\n",
    "        f1 = f1_score(Y_train_batch.cpu(),Y_pred.cpu(), average='macro')\n",
    "        savef1.append(f1)\n",
    "\n",
    "        acc = sum(Y_train_batch == Y_pred)/len(Y_pred)\n",
    "        savacc.append(acc)\n",
    "\n",
    "        optimizer.zero_grad()\n",
    "        loss.backward()\n",
    "        optimizer.step()\n",
    "\n",
    "        i += 1\n",
    "\n",
    "        if i%10 == 0:\n",
    "            history.log((epoch+1, i), loss=loss, accuracy=acc)\n",
    "            with canvas:\n",
    "                canvas.draw_plot(history[\"loss\"])\n",
    "                canvas.draw_plot(history[\"accuracy\"])"
   ]
  },
  {
   "cell_type": "code",
   "execution_count": 120,
   "id": "60a67671",
   "metadata": {},
   "outputs": [
    {
     "data": {
      "image/png": "[encoded data removed]",
      "text/plain": [
       "<Figure size 432x288 with 1 Axes>"
      ]
     },
     "metadata": {
      "needs_background": "light"
     },
     "output_type": "display_data"
    }
   ],
   "source": [
    "plt.plot(savef1)\n",
    "_ =plt.title(\"F1 score por época\")"
   ]
  },
  {
   "cell_type": "code",
   "execution_count": 119,
   "id": "81984a82",
   "metadata": {},
   "outputs": [
    {
     "data": {
      "text/plain": [
       "Text(0.5, 1.0, 'Accuracy por época')"
      ]
     },
     "execution_count": 119,
     "metadata": {},
     "output_type": "execute_result"
    },
    {
     "data": {
      "image/png": "[encoded data removed]",
      "text/plain": [
       "<Figure size 432x288 with 1 Axes>"
      ]
     },
     "metadata": {
      "needs_background": "light"
     },
     "output_type": "display_data"
    }
   ],
   "source": [
    "plt.plot(savacc)\n",
    "_ =plt.title(\"Accuracy por época\")"
   ]
  }
 ],
 "metadata": {
  "kernelspec": {
   "display_name": "Python 3 (ipykernel)",
   "language": "python",
   "name": "python3"
  },
  "language_info": {
   "codemirror_mode": {
    "name": "ipython",
    "version": 3
   },
   "file_extension": ".py",
   "mimetype": "text/x-python",
   "name": "python",
   "nbconvert_exporter": "python",
   "pygments_lexer": "ipython3",
   "version": "3.9.7"
  }
 },
 "nbformat": 4,
 "nbformat_minor": 5
}
